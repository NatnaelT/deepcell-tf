{
 "cells": [
  {
   "cell_type": "code",
   "execution_count": 1,
   "metadata": {},
   "outputs": [
    {
     "name": "stdout",
     "output_type": "stream",
     "text": [
      "WARNING:tensorflow:From /usr/local/lib/python3.6/dist-packages/tensorflow_core/python/ops/resource_variable_ops.py:1630: calling BaseResourceVariable.__init__ (from tensorflow.python.ops.resource_variable_ops) with constraint is deprecated and will be removed in a future version.\n",
      "Instructions for updating:\n",
      "If using Keras pass *_constraint arguments to layers.\n"
     ]
    },
    {
     "name": "stderr",
     "output_type": "stream",
     "text": [
      "/usr/local/lib/python3.6/dist-packages/deepcell/utils/__init__.py:49: UserWarning: To use `compute_overlap`, the C extensions must be built using `python setup.py build_ext --inplace`\n",
      "  warnings.warn('To use `compute_overlap`, the C extensions must be built '\n"
     ]
    }
   ],
   "source": [
    "import os\n",
    "import numpy as np\n",
    "\n",
    "import tensorflow as tf\n",
    "\n",
    "from tensorflow.python.keras import backend as K\n",
    "\n",
    "from matplotlib import pyplot as plt\n",
    "from ipywidgets import interact, interactive, fixed, interact_manual\n",
    "import ipywidgets as widgets\n",
    "\n",
    "from deepcell.applications import CytoplasmSegmentation\n",
    "from deepcell.datasets.cytoplasm import hela_s3\n",
    "\n",
    "from deepcell_toolbox import utils\n",
    "from deepcell_toolbox.utils import resize, tile_image, untile_image"
   ]
  },
  {
   "cell_type": "code",
   "execution_count": 2,
   "metadata": {},
   "outputs": [
    {
     "name": "stdout",
     "output_type": "stream",
     "text": [
      "Downloading data from https://deepcell-data.s3.amazonaws.com/cytoplasm/fluorescent/hela_s3-cytoplasm_fixed.npz\n",
      "632602624/632595468 [==============================] - 16s 0us/step\n"
     ]
    }
   ],
   "source": [
    "((X_train, y_train),(X_test, y_test)) = hela_s3.load_data()\n",
    "im = X_test\n",
    "im.shape\n",
    "\n",
    "i=0\n",
    "image = im[i, ..., 0]\n",
    "image = np.expand_dims(image, 0)\n",
    "image = np.expand_dims(image, -1)\n",
    "image = image.astype('uint16')\n",
    "image = image[:,:512,:512]"
   ]
  },
  {
   "cell_type": "code",
   "execution_count": null,
   "metadata": {},
   "outputs": [],
   "source": [
    "app = CytoplasmSegmentation()\n",
    "print('Training Resolution:', app.model_mpp, 'microns per pixel')\n",
    "\n",
    "labeled_im = app.predict(image, image_mpp=0.65)      \n",
    "labeled_im.shape"
   ]
  },
  {
   "cell_type": "code",
   "execution_count": null,
   "metadata": {},
   "outputs": [],
   "source": [
    "i = 0\n",
    "fig, ax = plt.subplots(1, 2, figsize=(10, 8))\n",
    "ax[0].imshow(im[0, ..., 0])\n",
    "ax[1].imshow(labeled_im[i, ..., 0], cmap='jet')\n",
    "plt.show()"
   ]
  },
  {
   "cell_type": "code",
   "execution_count": null,
   "metadata": {
    "scrolled": false
   },
   "outputs": [],
   "source": [
    "dtype='int32'\n",
    "#dtype = 'uint16'\n",
    "input_shape = (256, 256, 1)\n",
    "stride_ratio = 0.5\n",
    "\n",
    "difference_threshold = 0.1\n",
    "\n",
    "\n",
    "initial_image = image.astype(dtype)\n",
    "\n",
    "tiles, tiles_info = utils.tile_image(initial_image, model_input_shape=input_shape, stride_ratio=stride_ratio)\n",
    "\n",
    "# version of untile image defined above\n",
    "#untiled_image = _untile_image(tiles, tiles_info, model_input_shape=input_shape) \n",
    "\n",
    "#version of untile image defined in deepcell-toolbox - need to edit that and restart kernel to see changes\n",
    "untiled_image = untile_image(tiles, tiles_info) \n",
    "\n",
    "diff = initial_image - untiled_image\n",
    "\n",
    "print('Avg diff = ', np.average(diff))\n",
    "print('Avg init = ', np.average(initial_image))\n",
    "print('Avg untiled = ', np.average(untiled_image))\n",
    "\n",
    "print('Difference is: ', np.average(diff)/np.average(untiled_image))\n",
    "\n",
    "\n",
    "fig, ax = plt.subplots(1, 3, figsize=(10, 8))\n",
    "ax[0].imshow(initial_image[i, ..., 0].astype('float32'))\n",
    "ax[1].imshow(untiled_image[i, ..., 0].astype('float32'))\n",
    "ax[2].imshow(diff[i, ..., 0].astype('float32'))\n",
    "plt.show()"
   ]
  },
  {
   "cell_type": "code",
   "execution_count": 59,
   "metadata": {},
   "outputs": [
    {
     "name": "stdout",
     "output_type": "stream",
     "text": [
      "tile_image: model_input_shape =  (128, 128, 1) , stride_ratio =  0.6\n",
      "image_shape is:  [4, 284, 284, 1] , stride_ratio is:  0.6\n",
      "Avg init =  5.0\n",
      "Avg untiled =  5.0007806\n",
      "Difference is:  -0.00015628878\n"
     ]
    },
    {
     "data": {
      "image/png": "[encoded data removed]",
      "text/plain": [
       "<Figure size 720x576 with 3 Axes>"
      ]
     },
     "metadata": {
      "needs_background": "light"
     },
     "output_type": "display_data"
    }
   ],
   "source": [
    "dtype='float32'\n",
    "\n",
    "input_shape = (128, 128, 1)\n",
    "\n",
    "shape = (4, 256, 256, 1)\n",
    "\n",
    "#initial_image = (np.random.random(shape) * 100).astype(dtype)\n",
    "initial_image = (np.zeros(shape)+5).astype(dtype)\n",
    "\n",
    "tiles, tiles_info = tile_image_new(initial_image, model_input_shape=input_shape, stride_ratio=0.6)\n",
    "\n",
    "#untiled_image = untile_image_test(tiles, tiles_info, model_input_shape=input_shape)\n",
    "untiled_image = untile_image_new(tiles, tiles_info)\n",
    "\n",
    "diff = initial_image - untiled_image\n",
    "\n",
    "print('Avg init = ', np.average(initial_image))\n",
    "print('Avg untiled = ', np.average(untiled_image))\n",
    "\n",
    "# rough estimate of relative difference between input & ouput\n",
    "print('Difference is: ', np.average(diff)/np.average(untiled_image))\n",
    "\n",
    "np.testing.assert_allclose(initial_image, untiled_image, 1e-1)\n",
    "\n",
    "\n",
    "fig, ax = plt.subplots(1, 3, figsize=(10, 8))\n",
    "ax[0].imshow(initial_image[i, ..., 0])\n",
    "ax[1].imshow(untiled_image[i, ..., 0])\n",
    "ax[2].imshow(diff[i, ..., 0])\n",
    "plt.show()"
   ]
  },
  {
   "cell_type": "code",
   "execution_count": 35,
   "metadata": {},
   "outputs": [],
   "source": [
    "import scipy.signal\n",
    "\n",
    "def tile_image_new(image, model_input_shape=(512, 512), stride_ratio=0.75):\n",
    "    \"\"\"\n",
    "    Tile large image into many overlapping tiles of size \"model_input_shape\".\n",
    "    Args:\n",
    "        image (numpy.array): The image to tile, must be rank 4.\n",
    "        model_input_shape (tuple): The input size of the model.\n",
    "        stride_ratio (float): The stride expressed as a fraction of the tile size\n",
    "    Returns:\n",
    "        tuple(numpy.array, dict): An tuple consisting of an array of tiled\n",
    "            images and a dictionary of tiling details (for use in un-tiling).\n",
    "    Raises:\n",
    "        ValueError: image is not rank 4.\n",
    "    \"\"\"\n",
    "    if image.ndim != 4:\n",
    "        raise ValueError('Expected image of rank 2, 3 or 4, got {}'.format(\n",
    "            image.ndim))\n",
    "\n",
    "    image_size_x, image_size_y = image.shape[1:3]\n",
    "    tile_size_x = model_input_shape[0]\n",
    "    tile_size_y = model_input_shape[1]\n",
    "\n",
    "    ceil = lambda x: int(np.ceil(x))\n",
    "    round_to_even = lambda x: int(np.ceil(x / 2.0) * 2)\n",
    "\n",
    "    stride_x = round_to_even(stride_ratio * tile_size_x)\n",
    "    stride_y = round_to_even(stride_ratio * tile_size_y)\n",
    "\n",
    "    if stride_x > tile_size_x:\n",
    "        stride_x = tile_size_x\n",
    "\n",
    "    if stride_y > tile_size_y:\n",
    "        stride_y = tile_size_y\n",
    "\n",
    "        \n",
    "\n",
    "    \n",
    "    rep_number_x = max(ceil((image_size_x - tile_size_x) / stride_x + 1), 1)\n",
    "    rep_number_y = max(ceil((image_size_y - tile_size_y) / stride_y + 1), 1)\n",
    "    new_batch_size = image.shape[0] * rep_number_x * rep_number_y\n",
    "\n",
    "    tiles_shape = (new_batch_size, tile_size_x, tile_size_y, image.shape[3])\n",
    "    tiles = np.zeros(tiles_shape, dtype=image.dtype)\n",
    "\n",
    "    #print('stride_x is {} and stride y is {}'.format(stride_x, stride_y))\n",
    "    #print('image_size_x is {} and image_size_y is {}'.format(image_size_x, image_size_y))\n",
    "    #print('tile_size_x is {} and tile_size_y is {}'.format(tile_size_x, tile_size_x))\n",
    "    #print('rep_number_x is {} and rep_number_y is {}'.format(rep_number_x, rep_number_y))\n",
    "    \n",
    "    # Calculate overlap of last tile\n",
    "    overlap_x = (tile_size_x + stride_x * (rep_number_x - 1)) - image_size_x\n",
    "    overlap_y = (tile_size_y + stride_y * (rep_number_y - 1)) - image_size_y\n",
    "\n",
    "    # Calculate padding needed to account for overlap and pad image accordingly\n",
    "    pad_x = (int(np.ceil(overlap_x / 2)), int(np.floor(overlap_x / 2)))\n",
    "    pad_y = (int(np.ceil(overlap_y / 2)), int(np.floor(overlap_y / 2)))\n",
    "    pad_null = (0, 0)\n",
    "    padding = (pad_null, pad_x, pad_y, pad_null)\n",
    "    image = np.pad(image, padding, 'constant')\n",
    "\n",
    "    #print('pad_x is {} and pad_y is {}'.format(pad_x, pad_y))\n",
    "    \n",
    "    counter = 0\n",
    "    batches = []\n",
    "    x_starts = []\n",
    "    x_ends = []\n",
    "    y_starts = []\n",
    "    y_ends = []\n",
    "    overlaps_x = []\n",
    "    overlaps_y = []\n",
    "\n",
    "    for b in range(image.shape[0]):\n",
    "        for i in range(rep_number_x):\n",
    "            for j in range(rep_number_y):\n",
    "                x_axis = 1\n",
    "                y_axis = 2\n",
    "\n",
    "                # Compute the start and end for each tile\n",
    "                if i != rep_number_x - 1:  # not the last one\n",
    "                    x_start, x_end = i * stride_x, i * stride_x + tile_size_x\n",
    "                else:\n",
    "                    x_start, x_end = image.shape[x_axis] - tile_size_x, image.shape[x_axis]\n",
    "\n",
    "                if j != rep_number_y - 1:  # not the last one\n",
    "                    y_start, y_end = j * stride_y, j * stride_y + tile_size_y\n",
    "                else:\n",
    "                    y_start, y_end = image.shape[y_axis] - tile_size_y, image.shape[y_axis]\n",
    "\n",
    "                # Compute the overlaps for each tile\n",
    "                if i == 0:\n",
    "                    overlap_x = (0, tile_size_x - stride_x)\n",
    "                elif i == rep_number_x - 2:\n",
    "                    overlap_x = (tile_size_x - stride_x, tile_size_x - image.shape[x_axis] + x_end)\n",
    "                elif i == rep_number_x - 1:\n",
    "                    overlap_x = ((i - 1) * stride_x + tile_size_x - x_start, 0)\n",
    "                else:\n",
    "                    overlap_x = (tile_size_x - stride_x, tile_size_x - stride_x)\n",
    "\n",
    "                if j == 0:\n",
    "                    overlap_y = (0, tile_size_y - stride_y)\n",
    "                elif j == rep_number_y - 2:\n",
    "                    overlap_y = (tile_size_y - stride_y, tile_size_y - image.shape[y_axis] + y_end)\n",
    "                elif j == rep_number_y - 1:\n",
    "                    overlap_y = ((j - 1) * stride_y + tile_size_y - y_start, 0)\n",
    "                else:\n",
    "                    overlap_y = (tile_size_y - stride_y, tile_size_y - stride_y)\n",
    "\n",
    "                tiles[counter] = image[b, x_start:x_end, y_start:y_end, :]\n",
    "                batches.append(b)\n",
    "                x_starts.append(x_start)\n",
    "                x_ends.append(x_end)\n",
    "                y_starts.append(y_start)\n",
    "                y_ends.append(y_end)\n",
    "                overlaps_x.append(overlap_x)\n",
    "                overlaps_y.append(overlap_y)\n",
    "                counter += 1\n",
    "\n",
    "    tiles_info = {}\n",
    "    tiles_info['batches'] = batches\n",
    "    tiles_info['x_starts'] = x_starts\n",
    "    tiles_info['x_ends'] = x_ends\n",
    "    tiles_info['y_starts'] = y_starts\n",
    "    tiles_info['y_ends'] = y_ends\n",
    "    tiles_info['overlaps_x'] = overlaps_x\n",
    "    tiles_info['overlaps_y'] = overlaps_y\n",
    "    tiles_info['stride_x'] = stride_x\n",
    "    tiles_info['stride_y'] = stride_y\n",
    "    tiles_info['tile_size_x'] = tile_size_x\n",
    "    tiles_info['tile_size_y'] = tile_size_y\n",
    "    tiles_info['stride_ratio'] = stride_ratio\n",
    "    tiles_info['image_shape'] = image.shape\n",
    "    tiles_info['dtype'] = image.dtype\n",
    "    tiles_info['pad_x'] = pad_x\n",
    "    tiles_info['pad_y'] = pad_y\n",
    "\n",
    "    return tiles, tiles_info\n"
   ]
  },
  {
   "cell_type": "code",
   "execution_count": 4,
   "metadata": {},
   "outputs": [],
   "source": [
    "import os\n",
    "import numpy as np\n",
    "\n",
    "import tensorflow as tf\n",
    "\n",
    "from tensorflow.python.keras import backend as K\n",
    "\n",
    "from matplotlib import pyplot as plt\n",
    "from ipywidgets import interact, interactive, fixed, interact_manual\n",
    "import ipywidgets as widgets\n",
    "\n",
    "from deepcell.applications import CytoplasmSegmentation\n",
    "from deepcell.datasets.cytoplasm import hela_s3\n",
    "\n",
    "from deepcell_toolbox import utils\n",
    "from deepcell_toolbox.utils import resize, tile_image, untile_image"
   ]
  },
  {
   "cell_type": "code",
   "execution_count": 20,
   "metadata": {},
   "outputs": [],
   "source": [
    "from itertools import product\n",
    "\n",
    "import numpy as np\n",
    "from skimage.measure import label\n",
    "\n",
    "def test_untile_image():\n",
    "    shapes = [\n",
    "        (3, 8, 16, 2),\n",
    "        (1, 64, 64, 1),\n",
    "        (1, 41, 58, 1),\n",
    "        (1, 93, 61, 1),\n",
    "        \n",
    "    ]\n",
    "    rand_rel_diff_thresh = 2e-2\n",
    "    model_input_shapes = [(16, 20), (32, 32), (41, 51), (64, 64), (100, 90)]\n",
    "    stride_ratios = [0.33, 0.4, 0.5, 0.51, 0.66, 0.75, 1]\n",
    "    dtypes = ['int32', 'float32', 'uint16', 'float16']\n",
    "    prod = product(shapes, model_input_shapes, stride_ratios, dtypes)\n",
    "\n",
    "    # Test that randomly generated arrays are unchanged within a moderate tolerance\n",
    "    for shape, input_shape, stride_ratio, dtype in prod:\n",
    "\n",
    "        big_image = (np.random.random(shape) * 100).astype(dtype)\n",
    "        tiles, tiles_info = utils.tile_image(big_image, model_input_shape=input_shape,\n",
    "                                             stride_ratio=stride_ratio)\n",
    "\n",
    "        untiled_image = utils.untile_image(tiles, tiles_info)\n",
    "\n",
    "        assert untiled_image.dtype == dtype\n",
    "        assert untiled_image.shape == shape\n",
    "\n",
    "        np.testing.assert_allclose(big_image, untiled_image, rand_rel_diff_thresh)\n",
    "\n",
    "    # Test that arrays of zeros are unchanged by tile/untile\n",
    "    for shape, input_shape, stride_ratio, dtype in prod:\n",
    "\n",
    "        big_image_zeros = np.zeros(shape).astype(dtype)\n",
    "        tiles, tiles_info = utils.tile_image(big_image_zeros, model_input_shape=input_shape,\n",
    "                                             stride_ratio=stride_ratio)\n",
    "        untiled_image_zeros = utils.untile_image(tiles, tiles_info)\n",
    "        assert untiled_image_zeros.dtype == dtype\n",
    "        assert untiled_image_zeros.shape == shape\n",
    "        assert big_image_zeros == untiled_image_zeros"
   ]
  },
  {
   "cell_type": "code",
   "execution_count": 21,
   "metadata": {},
   "outputs": [
    {
     "ename": "AssertionError",
     "evalue": "\nNot equal to tolerance rtol=0.02, atol=0\n\nMismatch: 9.57%\nMax absolute difference: 12\nMax relative difference: 0.13793103\n x: array([[[[88],\n         [13],\n         [15],...\n y: array([[[[88],\n         [13],\n         [15],...",
     "output_type": "error",
     "traceback": [
      "\u001b[0;31m---------------------------------------------------------------------------\u001b[0m",
      "\u001b[0;31mAssertionError\u001b[0m                            Traceback (most recent call last)",
      "\u001b[0;32m<ipython-input-21-80e4bcd75263>\u001b[0m in \u001b[0;36m<module>\u001b[0;34m\u001b[0m\n\u001b[0;32m----> 1\u001b[0;31m \u001b[0mtest_untile_image\u001b[0m\u001b[0;34m(\u001b[0m\u001b[0;34m)\u001b[0m\u001b[0;34m\u001b[0m\u001b[0;34m\u001b[0m\u001b[0m\n\u001b[0m",
      "\u001b[0;32m<ipython-input-20-c0eeea74ce42>\u001b[0m in \u001b[0;36mtest_untile_image\u001b[0;34m()\u001b[0m\n\u001b[1;32m     30\u001b[0m         \u001b[0;32massert\u001b[0m \u001b[0muntiled_image\u001b[0m\u001b[0;34m.\u001b[0m\u001b[0mshape\u001b[0m \u001b[0;34m==\u001b[0m \u001b[0mshape\u001b[0m\u001b[0;34m\u001b[0m\u001b[0;34m\u001b[0m\u001b[0m\n\u001b[1;32m     31\u001b[0m \u001b[0;34m\u001b[0m\u001b[0m\n\u001b[0;32m---> 32\u001b[0;31m         \u001b[0mnp\u001b[0m\u001b[0;34m.\u001b[0m\u001b[0mtesting\u001b[0m\u001b[0;34m.\u001b[0m\u001b[0massert_allclose\u001b[0m\u001b[0;34m(\u001b[0m\u001b[0mbig_image\u001b[0m\u001b[0;34m,\u001b[0m \u001b[0muntiled_image\u001b[0m\u001b[0;34m,\u001b[0m \u001b[0mrand_rel_diff_thresh\u001b[0m\u001b[0;34m)\u001b[0m\u001b[0;34m\u001b[0m\u001b[0;34m\u001b[0m\u001b[0m\n\u001b[0m\u001b[1;32m     33\u001b[0m \u001b[0;34m\u001b[0m\u001b[0m\n\u001b[1;32m     34\u001b[0m     \u001b[0;31m# Test that arrays of zeros are unchanged by tile/untile\u001b[0m\u001b[0;34m\u001b[0m\u001b[0;34m\u001b[0m\u001b[0;34m\u001b[0m\u001b[0m\n",
      "\u001b[0;32m/usr/local/lib/python3.6/dist-packages/numpy/testing/_private/utils.py\u001b[0m in \u001b[0;36massert_allclose\u001b[0;34m(actual, desired, rtol, atol, equal_nan, err_msg, verbose)\u001b[0m\n\u001b[1;32m   1513\u001b[0m     \u001b[0mheader\u001b[0m \u001b[0;34m=\u001b[0m \u001b[0;34m'Not equal to tolerance rtol=%g, atol=%g'\u001b[0m \u001b[0;34m%\u001b[0m \u001b[0;34m(\u001b[0m\u001b[0mrtol\u001b[0m\u001b[0;34m,\u001b[0m \u001b[0matol\u001b[0m\u001b[0;34m)\u001b[0m\u001b[0;34m\u001b[0m\u001b[0;34m\u001b[0m\u001b[0m\n\u001b[1;32m   1514\u001b[0m     assert_array_compare(compare, actual, desired, err_msg=str(err_msg),\n\u001b[0;32m-> 1515\u001b[0;31m                          verbose=verbose, header=header, equal_nan=equal_nan)\n\u001b[0m\u001b[1;32m   1516\u001b[0m \u001b[0;34m\u001b[0m\u001b[0m\n\u001b[1;32m   1517\u001b[0m \u001b[0;34m\u001b[0m\u001b[0m\n",
      "\u001b[0;32m/usr/local/lib/python3.6/dist-packages/numpy/testing/_private/utils.py\u001b[0m in \u001b[0;36massert_array_compare\u001b[0;34m(comparison, x, y, err_msg, verbose, header, precision, equal_nan, equal_inf)\u001b[0m\n\u001b[1;32m    839\u001b[0m                                 \u001b[0mverbose\u001b[0m\u001b[0;34m=\u001b[0m\u001b[0mverbose\u001b[0m\u001b[0;34m,\u001b[0m \u001b[0mheader\u001b[0m\u001b[0;34m=\u001b[0m\u001b[0mheader\u001b[0m\u001b[0;34m,\u001b[0m\u001b[0;34m\u001b[0m\u001b[0;34m\u001b[0m\u001b[0m\n\u001b[1;32m    840\u001b[0m                                 names=('x', 'y'), precision=precision)\n\u001b[0;32m--> 841\u001b[0;31m             \u001b[0;32mraise\u001b[0m \u001b[0mAssertionError\u001b[0m\u001b[0;34m(\u001b[0m\u001b[0mmsg\u001b[0m\u001b[0;34m)\u001b[0m\u001b[0;34m\u001b[0m\u001b[0;34m\u001b[0m\u001b[0m\n\u001b[0m\u001b[1;32m    842\u001b[0m     \u001b[0;32mexcept\u001b[0m \u001b[0mValueError\u001b[0m\u001b[0;34m:\u001b[0m\u001b[0;34m\u001b[0m\u001b[0;34m\u001b[0m\u001b[0m\n\u001b[1;32m    843\u001b[0m         \u001b[0;32mimport\u001b[0m \u001b[0mtraceback\u001b[0m\u001b[0;34m\u001b[0m\u001b[0;34m\u001b[0m\u001b[0m\n",
      "\u001b[0;31mAssertionError\u001b[0m: \nNot equal to tolerance rtol=0.02, atol=0\n\nMismatch: 9.57%\nMax absolute difference: 12\nMax relative difference: 0.13793103\n x: array([[[[88],\n         [13],\n         [15],...\n y: array([[[[88],\n         [13],\n         [15],..."
     ]
    }
   ],
   "source": [
    "test_untile_image()"
   ]
  },
  {
   "cell_type": "code",
   "execution_count": 18,
   "metadata": {},
   "outputs": [
    {
     "ename": "AssertionError",
     "evalue": "\nNot equal to tolerance rtol=0.01, atol=0\n\nMismatch: 64.6%\nMax absolute difference: 30\nMax relative difference: 0.23255814\n x: array([[[[55],\n         [62],\n         [56],...\n y: array([[[[ 55],\n         [ 62],\n         [ 64],...",
     "output_type": "error",
     "traceback": [
      "\u001b[0;31m---------------------------------------------------------------------------\u001b[0m",
      "\u001b[0;31mAssertionError\u001b[0m                            Traceback (most recent call last)",
      "\u001b[0;32m<ipython-input-18-5d59ef82fce7>\u001b[0m in \u001b[0;36m<module>\u001b[0;34m\u001b[0m\n\u001b[1;32m     14\u001b[0m \u001b[0;32massert\u001b[0m \u001b[0muntiled_image\u001b[0m\u001b[0;34m.\u001b[0m\u001b[0mshape\u001b[0m \u001b[0;34m==\u001b[0m \u001b[0mshape\u001b[0m\u001b[0;34m\u001b[0m\u001b[0;34m\u001b[0m\u001b[0m\n\u001b[1;32m     15\u001b[0m \u001b[0;34m\u001b[0m\u001b[0m\n\u001b[0;32m---> 16\u001b[0;31m \u001b[0mnp\u001b[0m\u001b[0;34m.\u001b[0m\u001b[0mtesting\u001b[0m\u001b[0;34m.\u001b[0m\u001b[0massert_allclose\u001b[0m\u001b[0;34m(\u001b[0m\u001b[0mbig_image\u001b[0m\u001b[0;34m,\u001b[0m \u001b[0muntiled_image\u001b[0m\u001b[0;34m,\u001b[0m \u001b[0mrand_rel_diff_thresh\u001b[0m\u001b[0;34m)\u001b[0m\u001b[0;34m\u001b[0m\u001b[0;34m\u001b[0m\u001b[0m\n\u001b[0m",
      "\u001b[0;32m/usr/local/lib/python3.6/dist-packages/numpy/testing/_private/utils.py\u001b[0m in \u001b[0;36massert_allclose\u001b[0;34m(actual, desired, rtol, atol, equal_nan, err_msg, verbose)\u001b[0m\n\u001b[1;32m   1513\u001b[0m     \u001b[0mheader\u001b[0m \u001b[0;34m=\u001b[0m \u001b[0;34m'Not equal to tolerance rtol=%g, atol=%g'\u001b[0m \u001b[0;34m%\u001b[0m \u001b[0;34m(\u001b[0m\u001b[0mrtol\u001b[0m\u001b[0;34m,\u001b[0m \u001b[0matol\u001b[0m\u001b[0;34m)\u001b[0m\u001b[0;34m\u001b[0m\u001b[0;34m\u001b[0m\u001b[0m\n\u001b[1;32m   1514\u001b[0m     assert_array_compare(compare, actual, desired, err_msg=str(err_msg),\n\u001b[0;32m-> 1515\u001b[0;31m                          verbose=verbose, header=header, equal_nan=equal_nan)\n\u001b[0m\u001b[1;32m   1516\u001b[0m \u001b[0;34m\u001b[0m\u001b[0m\n\u001b[1;32m   1517\u001b[0m \u001b[0;34m\u001b[0m\u001b[0m\n",
      "\u001b[0;32m/usr/local/lib/python3.6/dist-packages/numpy/testing/_private/utils.py\u001b[0m in \u001b[0;36massert_array_compare\u001b[0;34m(comparison, x, y, err_msg, verbose, header, precision, equal_nan, equal_inf)\u001b[0m\n\u001b[1;32m    839\u001b[0m                                 \u001b[0mverbose\u001b[0m\u001b[0;34m=\u001b[0m\u001b[0mverbose\u001b[0m\u001b[0;34m,\u001b[0m \u001b[0mheader\u001b[0m\u001b[0;34m=\u001b[0m\u001b[0mheader\u001b[0m\u001b[0;34m,\u001b[0m\u001b[0;34m\u001b[0m\u001b[0;34m\u001b[0m\u001b[0m\n\u001b[1;32m    840\u001b[0m                                 names=('x', 'y'), precision=precision)\n\u001b[0;32m--> 841\u001b[0;31m             \u001b[0;32mraise\u001b[0m \u001b[0mAssertionError\u001b[0m\u001b[0;34m(\u001b[0m\u001b[0mmsg\u001b[0m\u001b[0;34m)\u001b[0m\u001b[0;34m\u001b[0m\u001b[0;34m\u001b[0m\u001b[0m\n\u001b[0m\u001b[1;32m    842\u001b[0m     \u001b[0;32mexcept\u001b[0m \u001b[0mValueError\u001b[0m\u001b[0;34m:\u001b[0m\u001b[0;34m\u001b[0m\u001b[0;34m\u001b[0m\u001b[0m\n\u001b[1;32m    843\u001b[0m         \u001b[0;32mimport\u001b[0m \u001b[0mtraceback\u001b[0m\u001b[0;34m\u001b[0m\u001b[0;34m\u001b[0m\u001b[0m\n",
      "\u001b[0;31mAssertionError\u001b[0m: \nNot equal to tolerance rtol=0.01, atol=0\n\nMismatch: 64.6%\nMax absolute difference: 30\nMax relative difference: 0.23255814\n x: array([[[[55],\n         [62],\n         [56],...\n y: array([[[[ 55],\n         [ 62],\n         [ 64],..."
     ]
    }
   ],
   "source": [
    "rand_rel_diff_thresh = 1e-2\n",
    "shape = (1, 6, 8, 1)\n",
    "input_shape = (4, 4)\n",
    "stride_ratio = 0.5\n",
    "dtype = 'int32'\n",
    "\n",
    "big_image = (np.random.random(shape) * 100).astype(dtype)\n",
    "tiles, tiles_info = utils.tile_image(big_image, model_input_shape=input_shape,\n",
    "                                     stride_ratio=stride_ratio)\n",
    "\n",
    "untiled_image = utils.untile_image(tiles, tiles_info)\n",
    "\n",
    "assert untiled_image.dtype == dtype\n",
    "assert untiled_image.shape == shape\n",
    "\n",
    "np.testing.assert_allclose(big_image, untiled_image, rand_rel_diff_thresh)"
   ]
  },
  {
   "cell_type": "code",
   "execution_count": 19,
   "metadata": {},
   "outputs": [
    {
     "data": {
      "text/plain": [
       "array([[55, 62, 56, 51, 26, 37, 34, 30],\n",
       "       [99, 27, 56, 90, 12,  3, 13, 38],\n",
       "       [10, 47, 53, 93, 35, 99,  8, 90],\n",
       "       [53, 98, 97, 11, 51, 93, 36, 95],\n",
       "       [78, 88, 23, 48, 99,  7, 61, 79],\n",
       "       [75, 37, 75, 63, 86, 48, 98, 28]], dtype=int32)"
      ]
     },
     "execution_count": 19,
     "metadata": {},
     "output_type": "execute_result"
    }
   ],
   "source": [
    "big_image[0, ..., 0]"
   ]
  },
  {
   "cell_type": "code",
   "execution_count": 20,
   "metadata": {},
   "outputs": [
    {
     "data": {
      "text/plain": [
       "array([[ 55,  62,  64,  58,  29,  42,  34,  30],\n",
       "       [ 99,  27,  64, 102,  13,   3,  13,  38],\n",
       "       [ 11,  53,  69, 121,  45, 129,   9, 102],\n",
       "       [ 60, 112, 126,  14,  66, 121,  41, 108],\n",
       "       [ 78,  88,  26,  54, 113,   8,  61,  79],\n",
       "       [ 75,  37,  85,  72,  98,  54,  98,  28]], dtype=int32)"
      ]
     },
     "execution_count": 20,
     "metadata": {},
     "output_type": "execute_result"
    }
   ],
   "source": [
    "untiled_image[0, ..., 0]"
   ]
  },
  {
   "cell_type": "code",
   "execution_count": 26,
   "metadata": {},
   "outputs": [
    {
     "data": {
      "text/plain": [
       "array([], shape=(0, 16, 16, 1), dtype=int32)"
      ]
     },
     "execution_count": 26,
     "metadata": {},
     "output_type": "execute_result"
    }
   ],
   "source": [
    "tiles[...]"
   ]
  },
  {
   "cell_type": "code",
   "execution_count": 6,
   "metadata": {},
   "outputs": [],
   "source": [
    "def test_tile_image():\n",
    "    shapes = [\n",
    "        (4, 21, 21, 1),\n",
    "        (4, 21, 31, 2),\n",
    "        (4, 31, 21, 3),\n",
    "    ]\n",
    "    model_input_shapes = [(3, 3), (5, 5), (7, 7), (12, 12)]\n",
    "\n",
    "    stride_ratios = [0.25, 0.33, 0.5, 0.66, 0.75, 0.8, 1]\n",
    "\n",
    "    dtypes = ['int32', 'float32', 'uint16', 'float16']\n",
    "\n",
    "    prod = product(shapes, model_input_shapes, stride_ratios, dtypes)\n",
    "\n",
    "    for shape, input_shape, stride_ratio, dtype in prod:\n",
    "        big_image = (np.random.random(shape) * 100).astype(dtype)\n",
    "        tiles, tiles_info = utils.tile_image(\n",
    "            big_image, input_shape,\n",
    "            stride_ratio=stride_ratio)\n",
    "\n",
    "        assert tiles.shape[1:] == input_shape + (shape[-1],)\n",
    "        assert tiles.dtype == big_image.dtype\n",
    "\n",
    "        ceil = lambda x: int(np.ceil(x))\n",
    "        round_to_even = lambda x: int(np.ceil(x / 2.0) * 2)\n",
    "\n",
    "        image_size_x, image_size_y = big_image.shape[1:3]\n",
    "        tile_size_x = input_shape[0]\n",
    "        tile_size_y = input_shape[1]\n",
    "\n",
    "        stride_x = round_to_even(stride_ratio * tile_size_x)\n",
    "        stride_y = round_to_even(stride_ratio * tile_size_y)\n",
    "\n",
    "        if stride_x > tile_size_x:\n",
    "            stride_x = tile_size_x\n",
    "        if stride_y > tile_size_y:\n",
    "            stride_y = tile_size_y\n",
    "\n",
    "        rep_number_x = ceil((image_size_x - tile_size_x) / stride_x + 1)\n",
    "        rep_number_y = ceil((image_size_y - tile_size_y) / stride_y + 1)\n",
    "\n",
    "        expected_batches = big_image.shape[0] * rep_number_x * rep_number_y\n",
    "\n",
    "        assert tiles.shape[0] == expected_batches"
   ]
  },
  {
   "cell_type": "code",
   "execution_count": 7,
   "metadata": {},
   "outputs": [],
   "source": [
    "test_tile_image()"
   ]
  },
  {
   "cell_type": "code",
   "execution_count": null,
   "metadata": {},
   "outputs": [],
   "source": []
  }
 ],
 "metadata": {
  "kernelspec": {
   "display_name": "Python 3",
   "language": "python",
   "name": "python3"
  },
  "language_info": {
   "codemirror_mode": {
    "name": "ipython",
    "version": 3
   },
   "file_extension": ".py",
   "mimetype": "text/x-python",
   "name": "python",
   "nbconvert_exporter": "python",
   "pygments_lexer": "ipython3",
   "version": "3.6.8"
  }
 },
 "nbformat": 4,
 "nbformat_minor": 2
}

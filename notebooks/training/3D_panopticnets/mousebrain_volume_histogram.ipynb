{
 "cells": [
  {
   "cell_type": "markdown",
   "metadata": {
    "nbsphinx": "hidden"
   },
   "source": [
    "This notebook is part of the `deepcell-tf` documentation: https://deepcell.readthedocs.io/."
   ]
  },
  {
   "cell_type": "markdown",
   "metadata": {},
   "source": [
    "# Training a segmentation model\n",
    "\n",
    "`deepcell-tf` leverages [Jupyter Notebooks](https://jupyter.org) in order to train models. Example notebooks are available for most model architectures in the [notebooks folder](https://github.com/vanvalenlab/deepcell-tf/tree/master/notebooks). Most notebooks are structured similarly to this example and thus this notebook serves as a core reference for the deepcell approach to model training."
   ]
  },
  {
   "cell_type": "code",
   "execution_count": 2,
   "metadata": {},
   "outputs": [],
   "source": [
    "import os\n",
    "import errno\n",
    "import pandas as pd\n",
    "import numpy as np\n",
    "\n",
    "from matplotlib import pyplot as plt\n",
    "from sklearn.model_selection import train_test_split\n",
    "from skimage.segmentation import relabel_sequential\n",
    "from IPython.display import HTML\n",
    "\n",
    "import deepcell\n",
    "from deepcell.utils.plot_utils import get_js_video\n",
    "from deepcell.utils.utils_3D import get_3D_cell_statistics, load_mousebrain_data#, tile_predict_watershed\n",
    "from deepcell_toolbox.deep_watershed import deep_watershed_3D\n",
    "from deepcell_toolbox.utils import tile_image_3D, untile_image_3D"
   ]
  },
  {
   "cell_type": "markdown",
   "metadata": {},
   "source": [
    "## Load data"
   ]
  },
  {
   "cell_type": "code",
   "execution_count": 3,
   "metadata": {},
   "outputs": [
    {
     "name": "stdout",
     "output_type": "stream",
     "text": [
      "X_train.shape: (11, 47, 512, 512, 1)\ty_train.shape: (11, 47, 512, 512, 1)\n",
      "X_test.shape: (3, 47, 512, 512, 1)\ty_test.shape: (3, 47, 512, 512, 1)\n"
     ]
    }
   ],
   "source": [
    "filepath = '/images/data/cells/MouseBrain/3D_annotations/attempt2'\n",
    "set_nums = 4\n",
    "test_size = 0.2\n",
    "seed = 7\n",
    "\n",
    "X_train, X_test, y_train, y_test = load_mousebrain_data(filepath, set_nums, test_size=test_size, seed=seed)\n",
    "print('X_train.shape: {}\\ty_train.shape: {}'.format(X_train.shape, y_train.shape))\n",
    "print('X_test.shape: {}\\ty_test.shape: {}'.format(X_test.shape, y_test.shape))"
   ]
  },
  {
   "cell_type": "markdown",
   "metadata": {},
   "source": [
    "## Analyze cell statistics"
   ]
  },
  {
   "cell_type": "code",
   "execution_count": 4,
   "metadata": {},
   "outputs": [],
   "source": [
    "from skimage.measure import regionprops\n",
    "import statistics\n",
    "\n",
    "def get_3D_cell_statistics_r2(images, precision=2, channel=0):\n",
    "\n",
    "    if images.ndim != 5:\n",
    "        raise ValueError('Input images must have ndims = 5 (batch, z, x, y, channels)'\n",
    "                         'Given input had ndims = {}, with shape '.format(images.ndim, images.shape))\n",
    "\n",
    "    z_dims = []\n",
    "    x_dims = []\n",
    "    y_dims = []\n",
    "    \n",
    "    vols = []\n",
    "\n",
    "    for batch in range(images.shape[0]):\n",
    "        regions = regionprops(images[batch, ..., channel])\n",
    "\n",
    "        for region in regions:\n",
    "            vol = region.area\n",
    "            vols.append(vol)\n",
    "            \n",
    "            bbox = region.bbox\n",
    "            z_dims.append(bbox[3] - bbox[0])\n",
    "            x_dims.append(bbox[4] - bbox[1])\n",
    "            y_dims.append(bbox[5] - bbox[2])\n",
    "\n",
    "    stats = {}\n",
    "    stats['z_mean'] = np.round(statistics.mean(z_dims), precision)\n",
    "    stats['x_mean'] = np.round(statistics.mean(x_dims), precision)\n",
    "    stats['y_mean'] = np.round(statistics.mean(y_dims), precision)\n",
    "    stats['z_med'] = np.round(statistics.median(z_dims), precision)\n",
    "    stats['x_med'] = np.round(statistics.median(x_dims), precision)\n",
    "    stats['y_med'] = np.round(statistics.median(y_dims), precision)\n",
    "    stats['vols'] = vols\n",
    "    return stats"
   ]
  },
  {
   "cell_type": "code",
   "execution_count": 5,
   "metadata": {},
   "outputs": [
    {
     "name": "stdout",
     "output_type": "stream",
     "text": [
      "Cell dimensions: mean x is 36.07, mean y is 38.4, and mean z is 15.95\n"
     ]
    }
   ],
   "source": [
    "stats = get_3D_cell_statistics_r2(np.concatenate((y_train, y_test), axis=0))\n",
    "\n",
    "print('Cell dimensions: mean x is {}, mean y is {}, and mean z is {}'.format(\n",
    "    stats['x_mean'], stats['y_mean'], stats['z_mean']))"
   ]
  },
  {
   "cell_type": "code",
   "execution_count": 19,
   "metadata": {},
   "outputs": [
    {
     "name": "stdout",
     "output_type": "stream",
     "text": [
      "Downloading data from https://deepcell-data.s3.amazonaws.com/nuclei/HeLa_S3.npz\n",
      "6370107392/6370099814 [==============================] - 144s 0us/step\n"
     ]
    }
   ],
   "source": [
    "# Download the data (saves to ~/.keras/datasets)\n",
    "filename = 'HeLa_S3.npz'\n",
    "test_size = 0.1 # % of data saved as test\n",
    "seed = 0 # seed for random train-test split\n",
    "\n",
    "(hX_train, hy_train), (hX_test, hy_test) = deepcell.datasets.hela_s3.load_data(\n",
    "    filename, test_size=test_size, seed=seed)"
   ]
  },
  {
   "cell_type": "code",
   "execution_count": 24,
   "metadata": {},
   "outputs": [],
   "source": [
    "hstats = get_3D_cell_statistics_r2(np.expand_dims(np.concatenate((hy_train.astype(int), hy_test.astype(int)), axis=0), -1))"
   ]
  },
  {
   "cell_type": "code",
   "execution_count": 32,
   "metadata": {},
   "outputs": [
    {
     "data": {
      "image/png": "[encoded data removed]",
      "text/plain": [
       "<Figure size 432x288 with 1 Axes>"
      ]
     },
     "metadata": {
      "needs_background": "light"
     },
     "output_type": "display_data"
    }
   ],
   "source": [
    "import pandas as pd\n",
    "import numpy as np\n",
    "import matplotlib.pyplot as plt\n",
    "%matplotlib inline\n",
    "\n",
    "vols = stats['vols']\n",
    "\n",
    "\n",
    "plt.hist(vols, density=False, bins=20, range=(0, 500))  # `density=False` would make counts\n",
    "plt.ylabel('Probability')\n",
    "plt.xlabel('Data');\n",
    "\n",
    "## remove less than 450 (radius=6)"
   ]
  },
  {
   "cell_type": "code",
   "execution_count": 30,
   "metadata": {},
   "outputs": [
    {
     "data": {
      "image/png": "[encoded data removed]",
      "text/plain": [
       "<Figure size 432x288 with 1 Axes>"
      ]
     },
     "metadata": {
      "needs_background": "light"
     },
     "output_type": "display_data"
    }
   ],
   "source": [
    "hvols = hstats['vols']\n",
    "\n",
    "\n",
    "plt.hist(hvols, density=False, bins=84, range=(0, 1500))  # `density=False` would make counts\n",
    "plt.ylabel('Probability')\n",
    "plt.xlabel('Data');"
   ]
  },
  {
   "cell_type": "code",
   "execution_count": null,
   "metadata": {},
   "outputs": [],
   "source": [
    "### below is unneeded for this file"
   ]
  },
  {
   "cell_type": "code",
   "execution_count": null,
   "metadata": {},
   "outputs": [],
   "source": []
  },
  {
   "cell_type": "code",
   "execution_count": null,
   "metadata": {},
   "outputs": [],
   "source": []
  },
  {
   "cell_type": "code",
   "execution_count": null,
   "metadata": {},
   "outputs": [],
   "source": []
  },
  {
   "cell_type": "code",
   "execution_count": null,
   "metadata": {},
   "outputs": [],
   "source": []
  },
  {
   "cell_type": "code",
   "execution_count": null,
   "metadata": {},
   "outputs": [],
   "source": []
  },
  {
   "cell_type": "code",
   "execution_count": null,
   "metadata": {},
   "outputs": [],
   "source": []
  },
  {
   "cell_type": "code",
   "execution_count": null,
   "metadata": {},
   "outputs": [],
   "source": []
  },
  {
   "cell_type": "code",
   "execution_count": 4,
   "metadata": {},
   "outputs": [
    {
     "name": "stdout",
     "output_type": "stream",
     "text": [
      "X_train.shape: (13200, 33, 64, 64, 1)\ty_train.shape: (13200, 33, 64, 64, 1)\n",
      "X_test.shape: (726, 33, 64, 64, 1)\ty_test.shape: (726, 33, 64, 64, 1)\n"
     ]
    }
   ],
   "source": [
    "# Set args for image tiling\n",
    "z_dim = 32\n",
    "xy_dim = 64\n",
    "tile_shape = (z_dim+1, xy_dim, xy_dim)\n",
    "stride_train = 0.35\n",
    "stride_test = 0.75\n",
    "\n",
    "# Save an untiled version for metrics analysis\n",
    "X_test_metrics = np.copy(X_test) \n",
    "y_test_metrics = np.copy(y_test)\n",
    "\n",
    "# Tile images into overlapping tiles\n",
    "X_train, _ = tile_image_3D(X_train, model_input_shape=tile_shape, stride_ratio=stride_train)\n",
    "X_test, _ = tile_image_3D(X_test, model_input_shape=tile_shape, stride_ratio=stride_test)\n",
    "\n",
    "y_train, _ = tile_image_3D(y_train, model_input_shape=tile_shape, stride_ratio=stride_train)\n",
    "y_test, _ = tile_image_3D(y_test, model_input_shape=tile_shape, stride_ratio=stride_test)\n",
    "\n",
    "print('X_train.shape: {}\\ty_train.shape: {}'.format(X_train.shape, y_train.shape))\n",
    "print('X_test.shape: {}\\ty_test.shape: {}'.format(X_test.shape, y_test.shape))"
   ]
  },
  {
   "cell_type": "markdown",
   "metadata": {},
   "source": [
    "## Set up filepath constants\n"
   ]
  },
  {
   "cell_type": "code",
   "execution_count": 5,
   "metadata": {},
   "outputs": [],
   "source": [
    "filename = '--.npz'\n",
    "\n",
    "DATA_DIR = os.path.expanduser(os.path.join(filepath))\n",
    "\n",
    "# DATA_FILE should be a npz file, preferably from `make_training_data`\n",
    "DATA_FILE = os.path.join(DATA_DIR, filename)\n",
    "\n",
    "# If the data file is in a subdirectory, mirror it in MODEL_DIR and LOG_DIR\n",
    "PREFIX = os.path.relpath(os.path.dirname(DATA_FILE), DATA_DIR)\n",
    "\n",
    "ROOT_DIR = '/images'\n",
    "MODEL_DIR = os.path.abspath(os.path.join(ROOT_DIR, 'models', PREFIX))\n",
    "LOG_DIR = os.path.abspath(os.path.join(ROOT_DIR, 'logs', PREFIX))\n",
    "\n",
    "# create directories if they do not exist\n",
    "for d in (MODEL_DIR, LOG_DIR):\n",
    "    try:\n",
    "        os.makedirs(d)\n",
    "    except OSError as exc:  # Guard against race condition\n",
    "        if exc.errno != errno.EEXIST:\n",
    "            raise"
   ]
  },
  {
   "cell_type": "markdown",
   "metadata": {},
   "source": [
    "## Create the PanopticNet Model\n",
    "\n",
    "Here we instantiate a `PanopticNet` model from `deepcell.model_zoo` using 3 semantic heads:\n",
    "inner distance (1 class),\n",
    "outer distance (1 class),\n",
    "foreground/background distance (2 classes)"
   ]
  },
  {
   "cell_type": "code",
   "execution_count": 30,
   "metadata": {},
   "outputs": [],
   "source": [
    "temporal_mode = 'lstm'\n",
    "frames_per_batch = z_dim"
   ]
  },
  {
   "cell_type": "code",
   "execution_count": 31,
   "metadata": {
    "scrolled": false
   },
   "outputs": [],
   "source": [
    "from deepcell.model_zoo.panopticnet import PanopticNet\n",
    "\n",
    "model = PanopticNet(\n",
    "    backbone='resnet50',\n",
    "    input_shape=X_train.shape[2:],\n",
    "    frames_per_batch=frames_per_batch, \n",
    "    norm_method='std',\n",
    "    num_semantic_heads=3,\n",
    "    temporal_mode=temporal_mode,\n",
    "    num_semantic_classes=[1, 1, 2], # inner distance, outer distance, fgbg\n",
    "    location=True,  # should always be true\n",
    "    include_top=True)"
   ]
  },
  {
   "cell_type": "markdown",
   "metadata": {},
   "source": [
    "## Prepare for training\n",
    "\n",
    "### Set up training parameters"
   ]
  },
  {
   "cell_type": "code",
   "execution_count": 32,
   "metadata": {},
   "outputs": [],
   "source": [
    "from tensorflow.keras.optimizers import SGD, Adam\n",
    "from deepcell.utils.train_utils import rate_scheduler\n",
    "\n",
    "# Change these\n",
    "model_name = 'mousebrain3D_32x64_TMlstm'\n",
    "fill_mode = 'nearest'\n",
    "n_epoch = 1 \n",
    "batch_size = 3\n",
    "by_frame_inner = False  # if False, transform inner-distance as 3D, if True transform frame-by-frame\n",
    "by_frame_outer = True   # if False, transform outer-distance as 3D, if True transform frame-by-frame\n",
    "\n",
    "# Don't change these\n",
    "cval = 0\n",
    "test_size = .20\n",
    "optimizer = Adam(lr=1e-5, clipnorm=0.001)\n",
    "lr_sched = rate_scheduler(lr=1e-5, decay=0.99)\n",
    "min_objects = 1\n",
    "model_path = os.path.join(MODEL_DIR, '{}.h5'.format(model_name))\n",
    "loss_path = os.path.join(MODEL_DIR, '{}.npz'.format(model_name))"
   ]
  },
  {
   "cell_type": "markdown",
   "metadata": {},
   "source": [
    "### Create the DataGenerators\n",
    "\n",
    "The `SemanticDataGenerator` can output any number of transformations for each image. These transformations are passed to `generator.flow()` as a list of transform names.\n",
    "\n",
    "Here we use `\"inner-distance\"`, `\"outer-distance\"` and `\"fgbg\"` to correspond to the inner distance, outer distance, and foreground background semantic heads, respectively. Keyword arguments may also be passed to each transform as a `dict` of transform names to `kwargs`."
   ]
  },
  {
   "cell_type": "code",
   "execution_count": 34,
   "metadata": {},
   "outputs": [
    {
     "name": "stderr",
     "output_type": "stream",
     "text": [
      "W0719 16:48:09.010190 140439444326208 semantic.py:512] Removing 1618 of 13200 images with fewer than 1 objects.\n",
      "W0719 16:49:28.173621 140439444326208 semantic.py:512] Removing 98 of 726 images with fewer than 1 objects.\n"
     ]
    }
   ],
   "source": [
    "from deepcell import image_generators\n",
    "from deepcell.utils import train_utils\n",
    "\n",
    "transforms = ['inner-distance', 'outer-distance', 'fgbg']\n",
    "transforms_kwargs = {'outer-distance': {'erosion_width': 0, 'by_frame' : by_frame_outer},\n",
    "                     'inner-distance': {'by_frame' : by_frame_inner}}\n",
    "\n",
    "# use augmentation for training but not validation\n",
    "datagen = image_generators.SemanticMovieGenerator(\n",
    "    rotation_range=180,\n",
    "    shear_range=0,\n",
    "    zoom_range=(0.75, 1.25),\n",
    "    fill_mode=fill_mode,\n",
    "    cval=cval,\n",
    "    horizontal_flip=True,\n",
    "    vertical_flip=True)\n",
    "\n",
    "datagen_val = image_generators.SemanticMovieGenerator(\n",
    "    rotation_range=0,\n",
    "    shear_range=0,\n",
    "    zoom_range=0,\n",
    "    fill_mode=fill_mode,\n",
    "    cval=cval,\n",
    "    horizontal_flip=0,\n",
    "    vertical_flip=0)\n",
    "    \n",
    "train_data = datagen.flow(\n",
    "    {'X': X_train, 'y': y_train},\n",
    "    seed=seed,\n",
    "    transforms=transforms,\n",
    "    frames_per_batch=frames_per_batch,\n",
    "    transforms_kwargs=transforms_kwargs,\n",
    "    min_objects=min_objects,\n",
    "    batch_size=batch_size)\n",
    "\n",
    "val_data = datagen_val.flow(\n",
    "    {'X': X_test, 'y': y_test},\n",
    "    seed=seed,\n",
    "    frames_per_batch=frames_per_batch,\n",
    "    transforms=transforms,\n",
    "    transforms_kwargs=transforms_kwargs,\n",
    "    min_objects=min_objects,\n",
    "    batch_size=batch_size)\n"
   ]
  },
  {
   "cell_type": "markdown",
   "metadata": {},
   "source": [
    "Visualize the data generator output."
   ]
  },
  {
   "cell_type": "code",
   "execution_count": 35,
   "metadata": {},
   "outputs": [
    {
     "data": {
      "image/png": "[encoded data removed]",
      "text/plain": [
       "<Figure size 1080x1080 with 4 Axes>"
      ]
     },
     "metadata": {
      "needs_background": "light"
     },
     "output_type": "display_data"
    }
   ],
   "source": [
    "from matplotlib import pyplot as plt\n",
    "\n",
    "inputs, outputs = train_data.next()\n",
    "\n",
    "img = inputs[0]\n",
    "inner_distance = outputs[0]\n",
    "outer_distance = outputs[1]\n",
    "fgbg = outputs[2]\n",
    "\n",
    "fig, axes = plt.subplots(1, 4, figsize=(15, 15))\n",
    "\n",
    "slice=12\n",
    "\n",
    "axes[0].imshow(img[slice, ..., 0], cmap='jet')\n",
    "axes[0].set_title('Source Image')\n",
    "\n",
    "axes[1].imshow(inner_distance[0, slice, ..., 0])\n",
    "axes[1].set_title('Inner Distance')\n",
    "\n",
    "axes[2].imshow(outer_distance[0, slice, ..., 0])\n",
    "axes[2].set_title('Outer Distance')\n",
    "\n",
    "axes[3].imshow(fgbg[0, slice, ..., 0])\n",
    "axes[3].set_title('Foreground/Background')\n",
    "\n",
    "plt.show()"
   ]
  },
  {
   "cell_type": "code",
   "execution_count": 36,
   "metadata": {},
   "outputs": [],
   "source": [
    "# Uncomment to see videos of data_generator output\n",
    "\n",
    "# Inner_distance\n",
    "# HTML(get_js_video(outputs[0], batch=0, channel=0, interval=500, vmin=0, vmax=outputs[1].max()))\n",
    "\n",
    "# Outer_distance\n",
    "# HTML(get_js_video(outputs[1], batch=0, channel=0, interval=500, vmin=0, vmax=outputs[1].max()))\n",
    "\n",
    "# Raw\n",
    "# HTML(get_js_video(inputs, batch=0, channel=0, interval=500, vmin=0, vmax=inputs.max()))"
   ]
  },
  {
   "cell_type": "markdown",
   "metadata": {},
   "source": [
    "### Create a loss function for each semantic head\n",
    "\n",
    "Each semantic head is trained with it's own loss function. Mean Square Error is used for regression-based heads, whereas `weighted_categorical_crossentropy` is used for classification heads.\n",
    "\n",
    "The losses are saved as a dictionary and passed to `model.compile`."
   ]
  },
  {
   "cell_type": "code",
   "execution_count": 37,
   "metadata": {},
   "outputs": [],
   "source": [
    "# Create a dictionary of losses for each semantic head\n",
    "from tensorflow.python.keras.losses import MSE\n",
    "from deepcell import losses\n",
    "\n",
    "\n",
    "def semantic_loss(n_classes):\n",
    "    def _semantic_loss(y_pred, y_true):\n",
    "        if n_classes > 1:\n",
    "            return 0.01 * losses.weighted_categorical_crossentropy(\n",
    "                y_pred, y_true, n_classes=n_classes)\n",
    "        return MSE(y_pred, y_true)\n",
    "    return _semantic_loss\n",
    "\n",
    "\n",
    "loss = {}\n",
    "\n",
    "# Give losses for all of the semantic heads\n",
    "for layer in model.layers:\n",
    "    if layer.name.startswith('semantic_'):\n",
    "        n_classes = layer.output_shape[-1]\n",
    "        loss[layer.name] = semantic_loss(n_classes)"
   ]
  },
  {
   "cell_type": "code",
   "execution_count": 38,
   "metadata": {},
   "outputs": [],
   "source": [
    "model.compile(loss=loss, optimizer=optimizer)"
   ]
  },
  {
   "cell_type": "markdown",
   "metadata": {},
   "source": [
    "## Train the model\n",
    "\n",
    "Call `fit_generator` on the compiled model, along with a default set of callbacks."
   ]
  },
  {
   "cell_type": "code",
   "execution_count": 39,
   "metadata": {
    "scrolled": false
   },
   "outputs": [
    {
     "name": "stdout",
     "output_type": "stream",
     "text": [
      "Training on 1 GPUs.\n",
      "3859/3860 [============================>.] - ETA: 0s - loss: 0.1040 - semantic_0_loss: 0.0362 - semantic_1_loss: 0.0610 - semantic_2_loss: 0.0068\n",
      "Epoch 00001: val_loss improved from inf to 0.04704, saving model to /images/models/mousebrain3D_32x64_TMlstm.h5\n",
      "3860/3860 [==============================] - 2440s 632ms/step - loss: 0.1040 - semantic_0_loss: 0.0362 - semantic_1_loss: 0.0610 - semantic_2_loss: 0.0068 - val_loss: 0.0470 - val_semantic_0_loss: 0.0235 - val_semantic_1_loss: 0.0167 - val_semantic_2_loss: 0.0069\n"
     ]
    }
   ],
   "source": [
    "from deepcell.utils.train_utils import get_callbacks\n",
    "from deepcell.utils.train_utils import count_gpus\n",
    "\n",
    "\n",
    "num_gpus = count_gpus()\n",
    "\n",
    "print('Training on', num_gpus, 'GPUs.')\n",
    "\n",
    "train_callbacks = get_callbacks(\n",
    "    model_path,\n",
    "    lr_sched=lr_sched,\n",
    "    tensorboard_log_dir=LOG_DIR,\n",
    "    save_weights_only=num_gpus >= 2,\n",
    "    monitor='val_loss',\n",
    "    verbose=1)\n",
    "\n",
    "loss_history = model.fit_generator(\n",
    "    train_data,\n",
    "    steps_per_epoch=train_data.y.shape[0] // batch_size,\n",
    "    epochs=n_epoch,\n",
    "    validation_data=val_data,\n",
    "    validation_steps=val_data.y.shape[0] // batch_size,\n",
    "    callbacks=train_callbacks)"
   ]
  },
  {
   "cell_type": "markdown",
   "metadata": {},
   "source": [
    "## Predict on test data\n",
    "\n",
    "Use the trained model to predict on new data. First, create a new prediction model without the foreground background semantic head. While this head is very useful during training, the output is unused during prediction. By using `model.load_weights(path, by_name=True)`, the semantic head can be removed."
   ]
  },
  {
   "cell_type": "code",
   "execution_count": 23,
   "metadata": {},
   "outputs": [],
   "source": [
    "# Instantiate prediction model\n",
    "from deepcell.model_zoo.panopticnet import PanopticNet       \n",
    "#pred_model = PanopticNet(\n",
    "    backbone='resnet50',\n",
    "    input_shape=X_train.shape[2:],\n",
    "    frames_per_batch=frames_per_batch,\n",
    "    norm_method='std',\n",
    "    num_semantic_heads=2,\n",
    "    temporal_mode=temporal_mode,\n",
    "    num_semantic_classes=[1, 1], # inner distance, outer distance\n",
    "    location=True,  # should always be true\n",
    "    include_top=True)\n",
    "\n",
    "# Load weights\n",
    "#model.load_weights(model_path, by_name=True)"
   ]
  },
  {
   "cell_type": "code",
   "execution_count": 24,
   "metadata": {},
   "outputs": [
    {
     "name": "stdout",
     "output_type": "stream",
     "text": [
      "Model: \"panopticnet\"\n",
      "__________________________________________________________________________________________________\n",
      "Layer (type)                    Output Shape         Param #     Connected to                     \n",
      "==================================================================================================\n",
      "input_0 (InputLayer)            [(None, 32, 64, 64,  0                                            \n",
      "__________________________________________________________________________________________________\n",
      "td_norm (TimeDistributed)       (None, 32, 64, 64, 1 0           input_0[0][0]                    \n",
      "__________________________________________________________________________________________________\n",
      "td_location (TimeDistributed)   (None, 32, 64, 64, 2 0           td_norm[0][0]                    \n",
      "__________________________________________________________________________________________________\n",
      "concatenate_location (Concatena (None, 32, 64, 64, 3 0           td_norm[0][0]                    \n",
      "                                                                 td_location[0][0]                \n",
      "__________________________________________________________________________________________________\n",
      "conv_channels (Conv3D)          (None, 32, 64, 64, 3 12          concatenate_location[0][0]       \n",
      "__________________________________________________________________________________________________\n",
      "td4 (TimeDistributed)           (None, 32, 2, 2, 204 23587712    conv_channels[0][0]              \n",
      "__________________________________________________________________________________________________\n",
      "td3 (TimeDistributed)           (None, 32, 4, 4, 102 8589184     conv_channels[0][0]              \n",
      "__________________________________________________________________________________________________\n",
      "C5_reduced (Conv3D)             (None, 32, 2, 2, 256 524544      td4[0][0]                        \n",
      "__________________________________________________________________________________________________\n",
      "C4_reduced (Conv3D)             (None, 32, 4, 4, 256 262400      td3[0][0]                        \n",
      "__________________________________________________________________________________________________\n",
      "P5_upsampled (UpSampling3D)     (None, 32, 4, 4, 256 0           C5_reduced[0][0]                 \n",
      "__________________________________________________________________________________________________\n",
      "td2 (TimeDistributed)           (None, 32, 8, 8, 512 1460096     conv_channels[0][0]              \n",
      "__________________________________________________________________________________________________\n",
      "P4_merged (Add)                 (None, 32, 4, 4, 256 0           C4_reduced[0][0]                 \n",
      "                                                                 P5_upsampled[0][0]               \n",
      "__________________________________________________________________________________________________\n",
      "C3_reduced (Conv3D)             (None, 32, 8, 8, 256 131328      td2[0][0]                        \n",
      "__________________________________________________________________________________________________\n",
      "P4_upsampled (UpSampling3D)     (None, 32, 8, 8, 256 0           P4_merged[0][0]                  \n",
      "__________________________________________________________________________________________________\n",
      "P3_merged (Add)                 (None, 32, 8, 8, 256 0           C3_reduced[0][0]                 \n",
      "                                                                 P4_upsampled[0][0]               \n",
      "__________________________________________________________________________________________________\n",
      "P3 (Conv3D)                     (None, 32, 8, 8, 256 590080      P3_merged[0][0]                  \n",
      "__________________________________________________________________________________________________\n",
      "conv_mtf_P3 (ConvLSTM2D)        (None, 32, 8, 8, 256 4719616     P3[0][0]                         \n",
      "__________________________________________________________________________________________________\n",
      "conv_0_semantic_upsample_0 (Con (None, 32, 8, 8, 64) 147520      conv_mtf_P3[0][0]                \n",
      "__________________________________________________________________________________________________\n",
      "conv_0_semantic_upsample_1 (Con (None, 32, 8, 8, 64) 147520      conv_mtf_P3[0][0]                \n",
      "__________________________________________________________________________________________________\n",
      "upsampling_0_semantic_upsample_ (None, 32, 16, 16, 6 0           conv_0_semantic_upsample_0[0][0] \n",
      "__________________________________________________________________________________________________\n",
      "upsampling_0_semantic_upsample_ (None, 32, 16, 16, 6 0           conv_0_semantic_upsample_1[0][0] \n",
      "__________________________________________________________________________________________________\n",
      "conv_1_semantic_upsample_0 (Con (None, 32, 16, 16, 6 36928       upsampling_0_semantic_upsample_0[\n",
      "__________________________________________________________________________________________________\n",
      "conv_1_semantic_upsample_1 (Con (None, 32, 16, 16, 6 36928       upsampling_0_semantic_upsample_1[\n",
      "__________________________________________________________________________________________________\n",
      "upsampling_1_semantic_upsample_ (None, 32, 32, 32, 6 0           conv_1_semantic_upsample_0[0][0] \n",
      "__________________________________________________________________________________________________\n",
      "upsampling_1_semantic_upsample_ (None, 32, 32, 32, 6 0           conv_1_semantic_upsample_1[0][0] \n",
      "__________________________________________________________________________________________________\n",
      "conv_2_semantic_upsample_0 (Con (None, 32, 32, 32, 6 36928       upsampling_1_semantic_upsample_0[\n",
      "__________________________________________________________________________________________________\n",
      "conv_2_semantic_upsample_1 (Con (None, 32, 32, 32, 6 36928       upsampling_1_semantic_upsample_1[\n",
      "__________________________________________________________________________________________________\n",
      "upsampling_2_semantic_upsample_ (None, 32, 64, 64, 6 0           conv_2_semantic_upsample_0[0][0] \n",
      "__________________________________________________________________________________________________\n",
      "upsampling_2_semantic_upsample_ (None, 32, 64, 64, 6 0           conv_2_semantic_upsample_1[0][0] \n",
      "__________________________________________________________________________________________________\n",
      "conv_0_semantic_0 (Conv3D)      (None, 32, 64, 64, 1 8320        upsampling_2_semantic_upsample_0[\n",
      "__________________________________________________________________________________________________\n",
      "conv_0_semantic_1 (Conv3D)      (None, 32, 64, 64, 1 8320        upsampling_2_semantic_upsample_1[\n",
      "__________________________________________________________________________________________________\n",
      "batch_normalization_0_semantic_ (None, 32, 64, 64, 1 512         conv_0_semantic_0[0][0]          \n",
      "__________________________________________________________________________________________________\n",
      "batch_normalization_0_semantic_ (None, 32, 64, 64, 1 512         conv_0_semantic_1[0][0]          \n",
      "__________________________________________________________________________________________________\n",
      "relu_0_semantic_0 (Activation)  (None, 32, 64, 64, 1 0           batch_normalization_0_semantic_0[\n",
      "__________________________________________________________________________________________________\n",
      "relu_0_semantic_1 (Activation)  (None, 32, 64, 64, 1 0           batch_normalization_0_semantic_1[\n",
      "__________________________________________________________________________________________________\n",
      "conv_1_semantic_0 (Conv3D)      (None, 32, 64, 64, 1 129         relu_0_semantic_0[0][0]          \n",
      "__________________________________________________________________________________________________\n",
      "conv_1_semantic_1 (Conv3D)      (None, 32, 64, 64, 1 129         relu_0_semantic_1[0][0]          \n",
      "__________________________________________________________________________________________________\n",
      "semantic_0 (Activation)         (None, 32, 64, 64, 1 0           conv_1_semantic_0[0][0]          \n",
      "__________________________________________________________________________________________________\n",
      "semantic_1 (Activation)         (None, 32, 64, 64, 1 0           conv_1_semantic_1[0][0]          \n",
      "==================================================================================================\n",
      "Total params: 30,276,366\n",
      "Trainable params: 30,222,734\n",
      "Non-trainable params: 53,632\n",
      "__________________________________________________________________________________________________\n",
      "None\n"
     ]
    }
   ],
   "source": [
    "print(model.summary())"
   ]
  },
  {
   "cell_type": "code",
   "execution_count": 16,
   "metadata": {},
   "outputs": [],
   "source": [
    "def tile_predict_watershed(model,\n",
    "                           X_test,\n",
    "                           y_true,\n",
    "                           input_shape,\n",
    "                           stride_ratio=0.5,\n",
    "                           min_distance=10,\n",
    "                           detection_threshold=0.1,\n",
    "                           distance_threshold=0.1,\n",
    "                           small_objects_threshold=0):\n",
    "\n",
    "    # Tile X_test into overlapping tiles\n",
    "    X_tiles, tiles_info_X = tile_image_3D(X_test, model_input_shape=input_shape, stride_ratio=stride_ratio)\n",
    "    \n",
    "    # Predict on tiles \n",
    "    y_pred = model.predict(X_tiles, batch_size=batch_size)\n",
    "\n",
    "    # Untile predictions\n",
    "    y_pred = [untile_image_3D(o, tiles_info_X, model_input_shape=input_shape) for o in y_pred]\n",
    "    \n",
    "    # Run deep_watershed_3D on untiled predictions\n",
    "    y_pred = deep_watershed_3D(\n",
    "        y_pred,\n",
    "        min_distance=min_distance,\n",
    "        detection_threshold=detection_threshold,\n",
    "        distance_threshold=distance_threshold,\n",
    "        exclude_border=False,\n",
    "        small_objects_threshold=small_objects_threshold)\n",
    "        \n",
    "    # Squeeze out channel dimension from y_true\n",
    "    y_true = np.squeeze(y_true)\n",
    "    \n",
    "    # If batch dimension was squeezed out, add it back in\n",
    "    if y_true.ndim < 4:\n",
    "        y_true = np.expand_dims(y_true, 0)\n",
    "\n",
    "    return y_true, y_pred"
   ]
  },
  {
   "cell_type": "code",
   "execution_count": 17,
   "metadata": {},
   "outputs": [
    {
     "name": "stdout",
     "output_type": "stream",
     "text": [
      "Shape of y_pred is (3, 47, 512, 512) and shape of y_true is (3, 47, 512, 512)\n"
     ]
    }
   ],
   "source": [
    "# Predict on tiles and composite for metrics analysis\n",
    "input_shape = (frames_per_batch, X_train.shape[2], X_train.shape[3])\n",
    "stride_ratio = 0.5  \n",
    "min_distance = 14             # minimum allowable distance between two centroid coords\n",
    "detection_threshold = 0.05    # absolute threshold for minimum peak intensity\n",
    "distance_threshold = 0.1      # outer_distance threshold for cell border\n",
    "batch_size = 1\n",
    "\n",
    "y_true, y_pred = tile_predict_watershed(model=model,\n",
    "                                        X_test=X_test_metrics,\n",
    "                                        y_true=y_test_metrics,\n",
    "                                        input_shape=input_shape,\n",
    "                                        stride_ratio=stride_ratio,\n",
    "                                        min_distance=min_distance,\n",
    "                                        detection_threshold=detection_threshold,\n",
    "                                        distance_threshold=distance_threshold,\n",
    "                                        small_objects_threshold=0)\n",
    "\n",
    "\n",
    "print('Shape of y_pred is {} and shape of y_true is {}'.format(y_pred.shape, y_true.shape))"
   ]
  },
  {
   "cell_type": "markdown",
   "metadata": {},
   "source": [
    "## Run Metrics"
   ]
  },
  {
   "cell_type": "code",
   "execution_count": 18,
   "metadata": {},
   "outputs": [
    {
     "name": "stderr",
     "output_type": "stream",
     "text": [
      "/usr/local/lib/python3.6/dist-packages/deepcell_toolbox/metrics.py:115: RuntimeWarning: invalid value encountered in long_scalars\n",
      "  precision = intersection.sum() / pred.sum()\n"
     ]
    },
    {
     "name": "stdout",
     "output_type": "stream",
     "text": [
      "\n",
      "____________Object-based statistics____________\n",
      "\n",
      "Number of true cells:\t\t 260\n",
      "Number of predicted cells:\t 0\n",
      "\n",
      "Correct detections:  0\tRecall: 0.0%\n",
      "Incorrect detections: 0\tPrecision: nan%\n",
      "\n",
      "Gained detections: 0\tPerc Error: 0.0%\n",
      "Missed detections: 260\tPerc Error: 100.0%\n",
      "Merges: 0\t\tPerc Error: 0.0%\n",
      "Splits: 0\t\tPerc Error: 0.0%\n",
      "Catastrophes: 0\t\tPerc Error: 0.0%\n",
      "\n",
      "Gained detections from splits: 0\n",
      "Missed detections from merges: 0\n",
      "True detections involved in catastrophes: 0\n",
      "Predicted detections involved in catastrophes: 0 \n",
      "\n",
      "Average Pixel IOU (Jaccard Index): 0.0 \n",
      "\n"
     ]
    },
    {
     "name": "stderr",
     "output_type": "stream",
     "text": [
      "/usr/local/lib/python3.6/dist-packages/deepcell_toolbox/metrics.py:926: RuntimeWarning: invalid value encountered in long_scalars\n",
      "  to_precision(100 * self.stats['correct_detections'].sum() / self.stats['n_pred'].sum(),\n"
     ]
    }
   ],
   "source": [
    "from deepcell_toolbox.metrics import Metrics\n",
    "\n",
    "m = Metrics('DeepWatershed - Remove no pixels', seg=False, ndigits=3, cutoff1=0.6, cutoff2=0.1, is_3d=True)\n",
    "m.calc_object_stats(y_true, y_pred)"
   ]
  },
  {
   "cell_type": "code",
   "execution_count": 19,
   "metadata": {},
   "outputs": [],
   "source": [
    "from skimage.morphology import remove_small_objects\n",
    "\n",
    "small_objects_threshold = 327 # 4/3pi r^3 / z_scale, with radius = 5.6 (circle with area 100) and z_scale = 2.3\n",
    "\n",
    "# remove small objects - there are some incorrect annotations of very small cells. Should consider removing before training.\n",
    "for i in range(y_pred.shape[0]):\n",
    "    y_pred[i] = remove_small_objects(y_pred[i].astype(int), min_size=small_objects_threshold)\n",
    "    y_true[i] = remove_small_objects(y_true[i].astype(int), min_size=small_objects_threshold)\n",
    "\n",
    "    y_pred[i], _, _ = relabel_sequential(y_pred[i])"
   ]
  },
  {
   "cell_type": "code",
   "execution_count": 20,
   "metadata": {},
   "outputs": [
    {
     "name": "stdout",
     "output_type": "stream",
     "text": [
      "\n",
      "____________Object-based statistics____________\n",
      "\n",
      "Number of true cells:\t\t 241\n",
      "Number of predicted cells:\t 0\n",
      "\n",
      "Correct detections:  0\tRecall: 0.0%\n",
      "Incorrect detections: 0\tPrecision: nan%\n",
      "\n",
      "Gained detections: 0\tPerc Error: 0.0%\n",
      "Missed detections: 241\tPerc Error: 100.0%\n",
      "Merges: 0\t\tPerc Error: 0.0%\n",
      "Splits: 0\t\tPerc Error: 0.0%\n",
      "Catastrophes: 0\t\tPerc Error: 0.0%\n",
      "\n",
      "Gained detections from splits: 0\n",
      "Missed detections from merges: 0\n",
      "True detections involved in catastrophes: 0\n",
      "Predicted detections involved in catastrophes: 0 \n",
      "\n",
      "Average Pixel IOU (Jaccard Index): 0.0 \n",
      "\n"
     ]
    }
   ],
   "source": [
    "from deepcell_toolbox.metrics import Metrics\n",
    "\n",
    "m = Metrics('DeepWatershed - Remove no pixels', seg=False, ndigits=3, cutoff1=0.6, cutoff2=0.1, is_3d=True)\n",
    "m.calc_object_stats(y_true, y_pred)"
   ]
  },
  {
   "cell_type": "code",
   "execution_count": 40,
   "metadata": {},
   "outputs": [
    {
     "name": "stdout",
     "output_type": "stream",
     "text": [
      "Watershed segmentation of shape (1, 32, 64, 64, 1) in 8.14907929697074 seconds.\n"
     ]
    },
    {
     "data": {
      "image/png": "[encoded data removed]",
      "text/plain": [
       "<Figure size 1440x1440 with 5 Axes>"
      ]
     },
     "metadata": {
      "needs_background": "light"
     },
     "output_type": "display_data"
    }
   ],
   "source": [
    "# make predictions on testing data\n",
    "from timeit import default_timer\n",
    "\n",
    "f_mov = 24\n",
    "l_mov = f_mov+1\n",
    "batch_size = 1\n",
    "\n",
    "start = default_timer()\n",
    "test_images = model.predict(X_test[f_mov:l_mov, 0:frames_per_batch, ...], batch_size=batch_size)\n",
    "watershed_time = default_timer() - start\n",
    "\n",
    "print('Watershed segmentation of shape', test_images[0].shape, 'in', watershed_time, 'seconds.')\n",
    "\n",
    "\n",
    "import time\n",
    "\n",
    "from matplotlib import pyplot as plt\n",
    "import numpy as np\n",
    "\n",
    "from skimage.feature import peak_local_max\n",
    "from skimage.morphology import remove_small_objects\n",
    "\n",
    "\n",
    "min_distance = 15          # minimum allowable distance between two centroid coords\n",
    "detection_threshold = 0.01  # absolute threshold for minimum peak intensity (TODO - relative threshold)\n",
    "distance_threshold = 0.1  # outer_distance threshold for cell border\n",
    "small_objects_threshold = 0\n",
    "\n",
    "masks = deep_watershed_3D(\n",
    "    test_images,\n",
    "    min_distance=min_distance,\n",
    "    detection_threshold=detection_threshold,\n",
    "    distance_threshold=distance_threshold,\n",
    "    exclude_border=False,\n",
    "    small_objects_threshold=small_objects_threshold)\n",
    "\n",
    "# calculated in the postprocessing above, but useful for visualizing\n",
    "inner_distance = test_images[0]\n",
    "outer_distance = test_images[1]\n",
    "\n",
    "fig, axes = plt.subplots(1, 5, figsize=(20, 20))\n",
    "\n",
    "index = 0\n",
    "slice = 28\n",
    "coords = peak_local_max(\n",
    "    np.squeeze(inner_distance[index]),\n",
    "    min_distance=min_distance,\n",
    "    threshold_abs=detection_threshold,\n",
    "    exclude_border=False)\n",
    "\n",
    "# raw image with centroid\n",
    "axes[0].imshow(X_test[index+f_mov, slice, ..., 0])\n",
    "axes[0].scatter(coords[..., 2], coords[..., 1],\n",
    "                color='r', marker='.', s=10)\n",
    "\n",
    "# raw image xz plane\n",
    "#axes[0].imshow(X_test[index+f_mov, :, 150, :, 0])\n",
    "#axes[0].scatter(coords[..., 2], coords[..., 0], color='r', marker='.', s=10)\n",
    "    \n",
    "    \n",
    "axes[1].imshow(inner_distance[index, slice, ..., 0], cmap='jet')\n",
    "axes[2].imshow(outer_distance[index, slice, ..., 0], cmap='jet')\n",
    "axes[3].imshow(masks[index, slice, ...], cmap='jet')\n",
    "axes[4].imshow(np.squeeze(y_test[index+f_mov, slice, ...]), cmap='jet')\n",
    "\n",
    "plt.show()\n",
    "\n",
    "\n",
    "# Play movie of the predicted masks\n",
    "vid_msk = np.expand_dims(masks, axis=1)\n",
    "vid_msk = np.expand_dims(vid_msk, axis=-1)\n",
    "#HTML(get_js_video(vid_msk[index], batch=0, channel=0, interval=500))"
   ]
  },
  {
   "cell_type": "code",
   "execution_count": null,
   "metadata": {},
   "outputs": [],
   "source": []
  }
 ],
 "metadata": {
  "celltoolbar": "Raw Cell Format",
  "kernelspec": {
   "display_name": "Python 3",
   "language": "python",
   "name": "python3"
  }
 },
 "nbformat": 4,
 "nbformat_minor": 2
}
